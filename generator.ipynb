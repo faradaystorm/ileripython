{
  "nbformat": 4,
  "nbformat_minor": 0,
  "metadata": {
    "colab": {
      "provenance": [],
      "authorship_tag": "ABX9TyPdmafaxwxmlX3bL9WiUq2d",
      "include_colab_link": true
    },
    "kernelspec": {
      "name": "python3",
      "display_name": "Python 3"
    },
    "language_info": {
      "name": "python"
    }
  },
  "cells": [
    {
      "cell_type": "markdown",
      "metadata": {
        "id": "view-in-github",
        "colab_type": "text"
      },
      "source": [
        "<a href=\"https://colab.research.google.com/github/faradaystorm/ileripython/blob/main/generator.ipynb\" target=\"_parent\"><img src=\"https://colab.research.google.com/assets/colab-badge.svg\" alt=\"Open In Colab\"/></a>"
      ]
    },
    {
      "cell_type": "markdown",
      "source": [
        "elimdeki listenin elemanlarının karesini almak"
      ],
      "metadata": {
        "id": "bXdl1VS2jclo"
      }
    },
    {
      "cell_type": "code",
      "source": [
        "def square(l):\n",
        "    res = []\n",
        "\n",
        "    for e in l:\n",
        "        res.append(e*e)\n",
        "    return res"
      ],
      "metadata": {
        "id": "j-IoEjsxjj3k"
      },
      "execution_count": 5,
      "outputs": []
    },
    {
      "cell_type": "code",
      "source": [
        "l = [1, 2, 3]\n",
        "square(l)"
      ],
      "metadata": {
        "colab": {
          "base_uri": "https://localhost:8080/"
        },
        "id": "7qQt5AJmjxZ4",
        "outputId": "e69ff013-e973-425c-9fba-0aadc276c2a2"
      },
      "execution_count": 6,
      "outputs": [
        {
          "output_type": "execute_result",
          "data": {
            "text/plain": [
              "[1, 4, 9]"
            ]
          },
          "metadata": {},
          "execution_count": 6
        }
      ]
    },
    {
      "cell_type": "markdown",
      "source": [
        "- bu değerleri bir anda istemesem de ben sordukça üretip bana döndürürse\n",
        "- bunu generator mantığıyla yapabiliriz"
      ],
      "metadata": {
        "id": "cI4Xrgi4jelI"
      }
    },
    {
      "cell_type": "code",
      "execution_count": 7,
      "metadata": {
        "id": "4lR8JsLQjV9w"
      },
      "outputs": [],
      "source": [
        "def square_generator(l):\n",
        "    for e in l:\n",
        "        yield e*e"
      ]
    },
    {
      "cell_type": "code",
      "source": [
        "l = [1, 2, 3]\n",
        "g = square_generator(l)"
      ],
      "metadata": {
        "id": "YOQSnFuPlNYx"
      },
      "execution_count": 8,
      "outputs": []
    },
    {
      "cell_type": "code",
      "source": [
        "g"
      ],
      "metadata": {
        "colab": {
          "base_uri": "https://localhost:8080/"
        },
        "id": "tnYq6Qo5lsH4",
        "outputId": "543a5c67-2e25-4c67-84fe-adf9437b00c5"
      },
      "execution_count": 9,
      "outputs": [
        {
          "output_type": "execute_result",
          "data": {
            "text/plain": [
              "<generator object square_generator at 0x7b6e46e44740>"
            ]
          },
          "metadata": {},
          "execution_count": 9
        }
      ]
    },
    {
      "cell_type": "markdown",
      "source": [
        "generatorler bütün cevabı hafızada tutmazlar biz sordukça değerleri döndürürler\n",
        "\n",
        "generatorler iteratordur. next ile sonraki değerlerine erişebiliriz."
      ],
      "metadata": {
        "id": "8RXVMFzglZYl"
      }
    },
    {
      "cell_type": "code",
      "source": [
        "next(g)"
      ],
      "metadata": {
        "colab": {
          "base_uri": "https://localhost:8080/"
        },
        "id": "FgpKEER0lmb8",
        "outputId": "3b014e55-aee2-4da5-96b6-bb314bff84b4"
      },
      "execution_count": 10,
      "outputs": [
        {
          "output_type": "execute_result",
          "data": {
            "text/plain": [
              "1"
            ]
          },
          "metadata": {},
          "execution_count": 10
        }
      ]
    },
    {
      "cell_type": "code",
      "source": [
        "next(g)"
      ],
      "metadata": {
        "colab": {
          "base_uri": "https://localhost:8080/"
        },
        "id": "xeJIJMVwl0GX",
        "outputId": "c5ce7d37-d958-40b4-a1a6-70afe0552f64"
      },
      "execution_count": 11,
      "outputs": [
        {
          "output_type": "execute_result",
          "data": {
            "text/plain": [
              "4"
            ]
          },
          "metadata": {},
          "execution_count": 11
        }
      ]
    },
    {
      "cell_type": "code",
      "source": [
        "next(g)"
      ],
      "metadata": {
        "colab": {
          "base_uri": "https://localhost:8080/"
        },
        "id": "G1hWKUPQl-g1",
        "outputId": "e7a54aa1-12c2-4582-ff04-fead05ccd34e"
      },
      "execution_count": 12,
      "outputs": [
        {
          "output_type": "execute_result",
          "data": {
            "text/plain": [
              "9"
            ]
          },
          "metadata": {},
          "execution_count": 12
        }
      ]
    },
    {
      "cell_type": "code",
      "source": [
        "next(g) #exhaust oldu. bir daha baştan başlammak istiyorsam bir daha yaratmam lazım"
      ],
      "metadata": {
        "colab": {
          "base_uri": "https://localhost:8080/",
          "height": 165
        },
        "id": "IfgBkKegmBBG",
        "outputId": "bb3ab68b-b152-4e25-a27c-1ed75556a6f9"
      },
      "execution_count": 13,
      "outputs": [
        {
          "output_type": "error",
          "ename": "StopIteration",
          "evalue": "ignored",
          "traceback": [
            "\u001b[0;31m---------------------------------------------------------------------------\u001b[0m",
            "\u001b[0;31mStopIteration\u001b[0m                             Traceback (most recent call last)",
            "\u001b[0;32m<ipython-input-13-e734f8aca5ac>\u001b[0m in \u001b[0;36m<cell line: 1>\u001b[0;34m()\u001b[0m\n\u001b[0;32m----> 1\u001b[0;31m \u001b[0mnext\u001b[0m\u001b[0;34m(\u001b[0m\u001b[0mg\u001b[0m\u001b[0;34m)\u001b[0m\u001b[0;34m\u001b[0m\u001b[0;34m\u001b[0m\u001b[0m\n\u001b[0m",
            "\u001b[0;31mStopIteration\u001b[0m: "
          ]
        }
      ]
    },
    {
      "cell_type": "code",
      "source": [
        "for res in g:\n",
        "    print(res)"
      ],
      "metadata": {
        "id": "iFFQawyQmM_-"
      },
      "execution_count": 14,
      "outputs": []
    },
    {
      "cell_type": "code",
      "source": [
        "g = square_generator(l)"
      ],
      "metadata": {
        "id": "TRCVC2otmSvv"
      },
      "execution_count": 15,
      "outputs": []
    },
    {
      "cell_type": "markdown",
      "source": [
        "- değerleri arasında iterasyonu for döngüsü ile de yapabiliriz"
      ],
      "metadata": {
        "id": "TVkqyPg0mcyC"
      }
    },
    {
      "cell_type": "code",
      "source": [
        "for res in g:\n",
        "    print(res)"
      ],
      "metadata": {
        "colab": {
          "base_uri": "https://localhost:8080/"
        },
        "id": "lHbeJn9umhyu",
        "outputId": "f05d0a89-575e-4246-b190-454f742d6091"
      },
      "execution_count": 16,
      "outputs": [
        {
          "output_type": "stream",
          "name": "stdout",
          "text": [
            "1\n",
            "4\n",
            "9\n"
          ]
        }
      ]
    },
    {
      "cell_type": "code",
      "source": [
        "for res in g:\n",
        "    print(res)"
      ],
      "metadata": {
        "id": "XEesJDvjmoPj"
      },
      "execution_count": 17,
      "outputs": []
    },
    {
      "cell_type": "code",
      "source": [
        "next(g)"
      ],
      "metadata": {
        "colab": {
          "base_uri": "https://localhost:8080/",
          "height": 165
        },
        "id": "HD-96p9WmtE-",
        "outputId": "8f40fe77-39fd-4d01-e6cd-bfff2c69b344"
      },
      "execution_count": 18,
      "outputs": [
        {
          "output_type": "error",
          "ename": "StopIteration",
          "evalue": "ignored",
          "traceback": [
            "\u001b[0;31m---------------------------------------------------------------------------\u001b[0m",
            "\u001b[0;31mStopIteration\u001b[0m                             Traceback (most recent call last)",
            "\u001b[0;32m<ipython-input-18-e734f8aca5ac>\u001b[0m in \u001b[0;36m<cell line: 1>\u001b[0;34m()\u001b[0m\n\u001b[0;32m----> 1\u001b[0;31m \u001b[0mnext\u001b[0m\u001b[0;34m(\u001b[0m\u001b[0mg\u001b[0m\u001b[0;34m)\u001b[0m\u001b[0;34m\u001b[0m\u001b[0;34m\u001b[0m\u001b[0m\n\u001b[0m",
            "\u001b[0;31mStopIteration\u001b[0m: "
          ]
        }
      ]
    },
    {
      "cell_type": "markdown",
      "source": [
        "**List comprehension oluşturur gibi generator oluşturma**"
      ],
      "metadata": {
        "id": "tzzDAG9Jm68x"
      }
    },
    {
      "cell_type": "code",
      "source": [
        "l = [x*x for x in [1, 2, 3, 4, 5]]"
      ],
      "metadata": {
        "id": "RummQ8a7nFKF"
      },
      "execution_count": 35,
      "outputs": []
    },
    {
      "cell_type": "code",
      "source": [
        "l"
      ],
      "metadata": {
        "colab": {
          "base_uri": "https://localhost:8080/"
        },
        "id": "YWv75xUinWqc",
        "outputId": "d7c686c5-dca7-42fe-eaf5-f0bc046a1a82"
      },
      "execution_count": 36,
      "outputs": [
        {
          "output_type": "execute_result",
          "data": {
            "text/plain": [
              "[1, 4, 9, 16, 25]"
            ]
          },
          "metadata": {},
          "execution_count": 36
        }
      ]
    },
    {
      "cell_type": "code",
      "source": [
        "g =  (x*x for x in [1, 2, 3, 4, 5])"
      ],
      "metadata": {
        "id": "vj0IVDv0nZ8W"
      },
      "execution_count": 37,
      "outputs": []
    },
    {
      "cell_type": "code",
      "source": [
        "g"
      ],
      "metadata": {
        "colab": {
          "base_uri": "https://localhost:8080/"
        },
        "id": "3XkOT__Gnh6u",
        "outputId": "aaf44397-acd2-4293-de73-65ec04ec3b8e"
      },
      "execution_count": 38,
      "outputs": [
        {
          "output_type": "execute_result",
          "data": {
            "text/plain": [
              "<generator object <genexpr> at 0x7b6e46e6a9d0>"
            ]
          },
          "metadata": {},
          "execution_count": 38
        }
      ]
    },
    {
      "cell_type": "code",
      "source": [
        "next(g)"
      ],
      "metadata": {
        "colab": {
          "base_uri": "https://localhost:8080/"
        },
        "id": "-YmmLzghnlFG",
        "outputId": "d4762322-78ef-42bc-fd8e-c732a34254a4"
      },
      "execution_count": 39,
      "outputs": [
        {
          "output_type": "execute_result",
          "data": {
            "text/plain": [
              "1"
            ]
          },
          "metadata": {},
          "execution_count": 39
        }
      ]
    },
    {
      "cell_type": "code",
      "source": [
        "#it started from 2 because we wrote next(g) before it remembers the state it started at 2\n",
        "for e in g:\n",
        "    print(e)"
      ],
      "metadata": {
        "colab": {
          "base_uri": "https://localhost:8080/"
        },
        "id": "w4HKg-o8n1DA",
        "outputId": "c89d6e33-93a4-4ba2-d6a8-d704b3b31ba4"
      },
      "execution_count": 40,
      "outputs": [
        {
          "output_type": "stream",
          "name": "stdout",
          "text": [
            "4\n",
            "9\n",
            "16\n",
            "25\n"
          ]
        }
      ]
    },
    {
      "cell_type": "markdown",
      "source": [
        "**generator ı liste dönüştürme**"
      ],
      "metadata": {
        "id": "DLLbDYcpoaUu"
      }
    },
    {
      "cell_type": "code",
      "source": [
        "g = (x*x for x in [1, 2, 3, 4, 5])"
      ],
      "metadata": {
        "id": "-TXn1hjnoLNn"
      },
      "execution_count": 41,
      "outputs": []
    },
    {
      "cell_type": "code",
      "source": [
        "next(g)"
      ],
      "metadata": {
        "colab": {
          "base_uri": "https://localhost:8080/"
        },
        "id": "7P2ZWSOVolnT",
        "outputId": "34e3ab8b-55e6-44e7-f073-a20d7f0e559f"
      },
      "execution_count": 42,
      "outputs": [
        {
          "output_type": "execute_result",
          "data": {
            "text/plain": [
              "1"
            ]
          },
          "metadata": {},
          "execution_count": 42
        }
      ]
    },
    {
      "cell_type": "code",
      "source": [
        "g = (x*x for x in [1, 2, 3, 4, 5])"
      ],
      "metadata": {
        "id": "j9Ogg15zopK1"
      },
      "execution_count": 43,
      "outputs": []
    },
    {
      "cell_type": "code",
      "source": [
        "list(g)"
      ],
      "metadata": {
        "colab": {
          "base_uri": "https://localhost:8080/"
        },
        "id": "hHnTKy5LoupT",
        "outputId": "f5ddeee0-dca7-4ee0-e7c9-904b6c70585c"
      },
      "execution_count": 44,
      "outputs": [
        {
          "output_type": "execute_result",
          "data": {
            "text/plain": [
              "[1, 4, 9, 16, 25]"
            ]
          },
          "metadata": {},
          "execution_count": 44
        }
      ]
    },
    {
      "cell_type": "code",
      "source": [
        "l = [1, 2, 3, 4, 5, 6]"
      ],
      "metadata": {
        "id": "eGGgqx5No0bm"
      },
      "execution_count": 45,
      "outputs": []
    },
    {
      "cell_type": "code",
      "source": [
        "g = square_generator(l)"
      ],
      "metadata": {
        "id": "NaxFUAk4o79z"
      },
      "execution_count": 49,
      "outputs": []
    },
    {
      "cell_type": "code",
      "source": [
        "list(g)"
      ],
      "metadata": {
        "colab": {
          "base_uri": "https://localhost:8080/"
        },
        "id": "DKxx4lYcpCKy",
        "outputId": "4dbec92c-e384-4ef9-d6dc-4c1c276ac438"
      },
      "execution_count": 50,
      "outputs": [
        {
          "output_type": "execute_result",
          "data": {
            "text/plain": [
              "[1, 4, 9, 16, 25, 36]"
            ]
          },
          "metadata": {},
          "execution_count": 50
        }
      ]
    },
    {
      "cell_type": "code",
      "source": [
        "next(g) #bütün değerleri bitirdi"
      ],
      "metadata": {
        "colab": {
          "base_uri": "https://localhost:8080/",
          "height": 165
        },
        "id": "5M1Xokj5pMRV",
        "outputId": "9408c4ea-03a1-4cd1-d1e1-cea3dd85fc2e"
      },
      "execution_count": 51,
      "outputs": [
        {
          "output_type": "error",
          "ename": "StopIteration",
          "evalue": "ignored",
          "traceback": [
            "\u001b[0;31m---------------------------------------------------------------------------\u001b[0m",
            "\u001b[0;31mStopIteration\u001b[0m                             Traceback (most recent call last)",
            "\u001b[0;32m<ipython-input-51-e734f8aca5ac>\u001b[0m in \u001b[0;36m<cell line: 1>\u001b[0;34m()\u001b[0m\n\u001b[0;32m----> 1\u001b[0;31m \u001b[0mnext\u001b[0m\u001b[0;34m(\u001b[0m\u001b[0mg\u001b[0m\u001b[0;34m)\u001b[0m\u001b[0;34m\u001b[0m\u001b[0;34m\u001b[0m\u001b[0m\n\u001b[0m",
            "\u001b[0;31mStopIteration\u001b[0m: "
          ]
        }
      ]
    },
    {
      "cell_type": "markdown",
      "source": [
        "**Generators**\n",
        "- kısa yoldan iterator yaratmamıza olanak sağlar\n",
        "- uğraştıklarımız az elemanlar olunca çok farkını anlamayabiliriz ama fazla sayıda elemanla uğraşıyorsak hepsini bir anda hafızada tutmak çok yer kaplayabilir generatorlar istendiğinde elemanlari döndürdükleri için bu hafıza sorununa iyi gelebilirler.\n",
        "-list generator yaptığımız zaman bu özelliğini kaybeder"
      ],
      "metadata": {
        "id": "c0haHZSkpXbl"
      }
    },
    {
      "cell_type": "markdown",
      "source": [
        "**generator exercise**"
      ],
      "metadata": {
        "id": "uhbLxQ1uqWq8"
      }
    },
    {
      "cell_type": "code",
      "source": [
        "# range() benzeri fonksiyon oluşturma"
      ],
      "metadata": {
        "id": "fmCaCA8sqNXO"
      },
      "execution_count": null,
      "outputs": []
    },
    {
      "cell_type": "code",
      "source": [
        "def range_generator(start, end, step):\n",
        "    current = start\n",
        "\n",
        "    while current < end:\n",
        "        yield current\n",
        "        current += step"
      ],
      "metadata": {
        "id": "5LgOIpxEqfl9"
      },
      "execution_count": 52,
      "outputs": []
    },
    {
      "cell_type": "code",
      "source": [
        "r = range_generator(1, 20, 3)"
      ],
      "metadata": {
        "id": "LfQ4RKB2q0BM"
      },
      "execution_count": 53,
      "outputs": []
    },
    {
      "cell_type": "code",
      "source": [
        "next(r)"
      ],
      "metadata": {
        "colab": {
          "base_uri": "https://localhost:8080/"
        },
        "id": "Zn_s-g6bq44U",
        "outputId": "993e0051-afae-49eb-98ec-bd606405bea2"
      },
      "execution_count": 55,
      "outputs": [
        {
          "output_type": "execute_result",
          "data": {
            "text/plain": [
              "4"
            ]
          },
          "metadata": {},
          "execution_count": 55
        }
      ]
    },
    {
      "cell_type": "code",
      "source": [
        "next(r)"
      ],
      "metadata": {
        "colab": {
          "base_uri": "https://localhost:8080/"
        },
        "id": "zIdvF-opq4xU",
        "outputId": "7888b2a9-cf2e-4fbd-9874-cf8e6773c392"
      },
      "execution_count": 56,
      "outputs": [
        {
          "output_type": "execute_result",
          "data": {
            "text/plain": [
              "7"
            ]
          },
          "metadata": {},
          "execution_count": 56
        }
      ]
    },
    {
      "cell_type": "code",
      "source": [
        "next(r)"
      ],
      "metadata": {
        "colab": {
          "base_uri": "https://localhost:8080/"
        },
        "id": "JGWK87UZrCMx",
        "outputId": "86e3ddc5-089b-4b2d-f65c-30f7c03d5ab5"
      },
      "execution_count": 57,
      "outputs": [
        {
          "output_type": "execute_result",
          "data": {
            "text/plain": [
              "10"
            ]
          },
          "metadata": {},
          "execution_count": 57
        }
      ]
    },
    {
      "cell_type": "code",
      "source": [
        "r = range_generator(1, 20, 3)"
      ],
      "metadata": {
        "id": "sfnNPPPFrJ-6"
      },
      "execution_count": 58,
      "outputs": []
    },
    {
      "cell_type": "code",
      "source": [
        "def range_generator(start, end, step):\n",
        "    current = start\n",
        "\n",
        "    while current < end:\n",
        "        yield current\n",
        "        print(current)\n",
        "        current += step"
      ],
      "metadata": {
        "id": "bFC6_l6grX5J"
      },
      "execution_count": 64,
      "outputs": []
    },
    {
      "cell_type": "code",
      "source": [
        "next(r)"
      ],
      "metadata": {
        "colab": {
          "base_uri": "https://localhost:8080/"
        },
        "id": "Z8ILJAd7rdhg",
        "outputId": "b02e6760-af4f-4d21-e1fd-2b48e2edd0e4"
      },
      "execution_count": 66,
      "outputs": [
        {
          "output_type": "execute_result",
          "data": {
            "text/plain": [
              "13"
            ]
          },
          "metadata": {},
          "execution_count": 66
        }
      ]
    }
  ]
}