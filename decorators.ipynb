{
  "nbformat": 4,
  "nbformat_minor": 0,
  "metadata": {
    "colab": {
      "provenance": [],
      "authorship_tag": "ABX9TyNcWEK6wrzn0fxx3QqxQ9Ux",
      "include_colab_link": true
    },
    "kernelspec": {
      "name": "python3",
      "display_name": "Python 3"
    },
    "language_info": {
      "name": "python"
    }
  },
  "cells": [
    {
      "cell_type": "markdown",
      "metadata": {
        "id": "view-in-github",
        "colab_type": "text"
      },
      "source": [
        "<a href=\"https://colab.research.google.com/github/faradaystorm/ileripython/blob/main/decorators.ipynb\" target=\"_parent\"><img src=\"https://colab.research.google.com/assets/colab-badge.svg\" alt=\"Open In Colab\"/></a>"
      ]
    },
    {
      "cell_type": "markdown",
      "source": [
        "- Decoratorlar başka fonksiyonları parametre olarak kabul edip yeni bir fonksiyonalite ile yeni bir fonksiyon döndüren yapılardır."
      ],
      "metadata": {
        "id": "YpVjDauqKZks"
      }
    },
    {
      "cell_type": "code",
      "execution_count": 1,
      "metadata": {
        "id": "iXP3PqPDKUMB"
      },
      "outputs": [],
      "source": [
        "def print_func():\n",
        "  print(\"hey\")"
      ]
    },
    {
      "cell_type": "code",
      "source": [
        "def decorator_func(func):\n",
        "    def wrapper_func():\n",
        "        return func()\n",
        "\n",
        "    return wrapper_func"
      ],
      "metadata": {
        "id": "apVcs-WWK1jh"
      },
      "execution_count": 2,
      "outputs": []
    },
    {
      "cell_type": "code",
      "source": [
        "decorated_print = decorator_func(print_func)"
      ],
      "metadata": {
        "id": "WprGp6IWMGuc"
      },
      "execution_count": 3,
      "outputs": []
    },
    {
      "cell_type": "code",
      "source": [
        "decorated_print()"
      ],
      "metadata": {
        "colab": {
          "base_uri": "https://localhost:8080/"
        },
        "id": "vipUmM73MX1P",
        "outputId": "df04ae47-65a9-466c-8ea9-a21ff62a3f57"
      },
      "execution_count": 4,
      "outputs": [
        {
          "output_type": "stream",
          "name": "stdout",
          "text": [
            "hey\n"
          ]
        }
      ]
    },
    {
      "cell_type": "markdown",
      "source": [
        "- var olan fonksiyonu değiştirmeden yeni bir davranış kazandıracağız\n"
      ],
      "metadata": {
        "id": "C4b-k9KCMfIN"
      }
    },
    {
      "cell_type": "code",
      "source": [
        "def decorator_func(func):\n",
        "    def wrapper_func():\n",
        "        print(f\"the name of the function is {func.__name__}\")\n",
        "        return func()\n",
        "\n",
        "    return wrapper_func"
      ],
      "metadata": {
        "id": "-cSF89z2MlQR"
      },
      "execution_count": 8,
      "outputs": []
    },
    {
      "cell_type": "code",
      "source": [
        "decorated_print = decorator_func(print_func)"
      ],
      "metadata": {
        "id": "w2pm6riMM9dM"
      },
      "execution_count": 9,
      "outputs": []
    },
    {
      "cell_type": "code",
      "source": [
        "decorated_print()"
      ],
      "metadata": {
        "colab": {
          "base_uri": "https://localhost:8080/"
        },
        "id": "Vvxc9cIoNECZ",
        "outputId": "703a9130-60fc-420e-f204-3966e07f0ce6"
      },
      "execution_count": 10,
      "outputs": [
        {
          "output_type": "stream",
          "name": "stdout",
          "text": [
            "the name of the function is print_func\n",
            "hey\n"
          ]
        }
      ]
    },
    {
      "cell_type": "markdown",
      "source": [
        "aynı şeyi şu şekilde de yapabilirdik"
      ],
      "metadata": {
        "id": "gQ81ikdVNXYY"
      }
    },
    {
      "cell_type": "code",
      "source": [
        "#şununla aynı: print_func = decorator_func(print_func)\n",
        "@decorator_func\n",
        "def print_func():\n",
        "    print(\"hey\")"
      ],
      "metadata": {
        "id": "tNeNm32PNb-5"
      },
      "execution_count": 11,
      "outputs": []
    },
    {
      "cell_type": "markdown",
      "source": [
        "@func yapınca aslında fonksiyonumuzu func a input olarak veriyoruz"
      ],
      "metadata": {
        "id": "SGZHd38MNzGZ"
      }
    },
    {
      "cell_type": "code",
      "source": [
        "print_func()"
      ],
      "metadata": {
        "colab": {
          "base_uri": "https://localhost:8080/"
        },
        "id": "Ju26MiK3OCTE",
        "outputId": "75b3c44b-c952-437a-b841-ed2553be46c3"
      },
      "execution_count": 12,
      "outputs": [
        {
          "output_type": "stream",
          "name": "stdout",
          "text": [
            "the name of the function is print_func\n",
            "hey\n"
          ]
        }
      ]
    },
    {
      "cell_type": "code",
      "source": [
        "def func(name, number):\n",
        "    print(f\"Name: {name}, number: {number}\")"
      ],
      "metadata": {
        "id": "NGPSo3R9OHAW"
      },
      "execution_count": 13,
      "outputs": []
    },
    {
      "cell_type": "code",
      "source": [
        "func(\"Jack\", 227)"
      ],
      "metadata": {
        "colab": {
          "base_uri": "https://localhost:8080/"
        },
        "id": "XzH6lAI5OTmh",
        "outputId": "37c9c72f-02b2-4f0d-c85c-748f08875db1"
      },
      "execution_count": 14,
      "outputs": [
        {
          "output_type": "stream",
          "name": "stdout",
          "text": [
            "Name: Jack, number: 227\n"
          ]
        }
      ]
    },
    {
      "cell_type": "code",
      "source": [
        "def func():\n",
        "  name = input(\"isminizi giriniz: \")\n",
        "  number = int(input(\"Numaranızı giriniz: \"))\n",
        "  print(f\"Name: {name}, Number: {number}\")\n",
        "\n",
        "func()"
      ],
      "metadata": {
        "id": "c6bB1CZpO47N"
      },
      "execution_count": null,
      "outputs": []
    },
    {
      "cell_type": "code",
      "source": [
        "def decorator_func(func):\n",
        "    def wrapper_func(*args):\n",
        "        print(f\"the name of the function is {func.__name__}\")\n",
        "        return func(*args)\n",
        "\n",
        "    return wrapper_func"
      ],
      "metadata": {
        "id": "bbtA1FGYP4j6"
      },
      "execution_count": null,
      "outputs": []
    },
    {
      "cell_type": "code",
      "source": [
        "@decorator_func\n",
        "def func(name, number):\n",
        "    print(f\"Name: {name}, number: {number}\")"
      ],
      "metadata": {
        "id": "xnFTSFbnRlfi"
      },
      "execution_count": null,
      "outputs": []
    },
    {
      "cell_type": "code",
      "source": [
        "func(\"Burak\", 13)"
      ],
      "metadata": {
        "id": "d5HfQj_zR19K"
      },
      "execution_count": null,
      "outputs": []
    }
  ]
}