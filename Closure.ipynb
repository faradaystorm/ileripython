{
  "nbformat": 4,
  "nbformat_minor": 0,
  "metadata": {
    "colab": {
      "provenance": [],
      "authorship_tag": "ABX9TyNyc7t7+JkmSBU8y7a97g98",
      "include_colab_link": true
    },
    "kernelspec": {
      "name": "python3",
      "display_name": "Python 3"
    },
    "language_info": {
      "name": "python"
    }
  },
  "cells": [
    {
      "cell_type": "markdown",
      "metadata": {
        "id": "view-in-github",
        "colab_type": "text"
      },
      "source": [
        "<a href=\"https://colab.research.google.com/github/faradaystorm/ileripython/blob/main/Closure.ipynb\" target=\"_parent\"><img src=\"https://colab.research.google.com/assets/colab-badge.svg\" alt=\"Open In Colab\"/></a>"
      ]
    },
    {
      "cell_type": "markdown",
      "source": [
        "- Outer (dış) fonksiyonu çağırdıktan sonra bile inner function'ın outer function scope'una erişebilmesi"
      ],
      "metadata": {
        "id": "ihSPWuXs13yV"
      }
    },
    {
      "cell_type": "code",
      "execution_count": 1,
      "metadata": {
        "id": "_IhPqSAg10u1"
      },
      "outputs": [],
      "source": [
        "def outer():\n",
        "    msg = \"Hey\"\n",
        "\n",
        "    def inner():\n",
        "        print(msg)\n",
        "\n",
        "    return inner()"
      ]
    },
    {
      "cell_type": "code",
      "source": [
        "outer()"
      ],
      "metadata": {
        "colab": {
          "base_uri": "https://localhost:8080/"
        },
        "id": "Dz9O0RU72-PE",
        "outputId": "2d34cf80-eafb-40ff-c9f6-bd94bebb0191"
      },
      "execution_count": 2,
      "outputs": [
        {
          "output_type": "stream",
          "name": "stdout",
          "text": [
            "Hey\n"
          ]
        }
      ]
    },
    {
      "cell_type": "markdown",
      "source": [
        "- Bu örnek daha önce yaptıklarımızdan farklı değil, şnner function enclosing scope a erişip msg değişkenini bastırabildi"
      ],
      "metadata": {
        "id": "RK9bE3cW3C2g"
      }
    },
    {
      "cell_type": "code",
      "source": [
        "def outer():\n",
        "    msg = \"Hey\"\n",
        "\n",
        "    def inner():\n",
        "        print(msg)\n",
        "\n",
        "    return inner"
      ],
      "metadata": {
        "id": "mqKEMvil3R59"
      },
      "execution_count": 4,
      "outputs": []
    },
    {
      "cell_type": "code",
      "source": [
        "f = outer()"
      ],
      "metadata": {
        "id": "p7Qd2P2T4UA-"
      },
      "execution_count": 5,
      "outputs": []
    },
    {
      "cell_type": "code",
      "source": [
        "f"
      ],
      "metadata": {
        "colab": {
          "base_uri": "https://localhost:8080/"
        },
        "id": "zkr9Knot4W1O",
        "outputId": "ee22c271-0286-4744-bfad-88e5bdf7de7b"
      },
      "execution_count": 6,
      "outputs": [
        {
          "output_type": "execute_result",
          "data": {
            "text/plain": [
              "<function __main__.outer.<locals>.inner()>"
            ]
          },
          "metadata": {},
          "execution_count": 6
        }
      ]
    },
    {
      "cell_type": "markdown",
      "source": [
        "- şimdi outer function ı çağırmış olduk ve bize içinde tanımlanan function ı obje olarak döndürmüş oldu. function call yapmadığım sürece obje olarak kalacak"
      ],
      "metadata": {
        "id": "3qI_TwYD4eA6"
      }
    },
    {
      "cell_type": "code",
      "source": [
        "f()"
      ],
      "metadata": {
        "colab": {
          "base_uri": "https://localhost:8080/"
        },
        "id": "tygVni954uAD",
        "outputId": "c5a16c25-b0af-4527-d109-9cf6199db8df"
      },
      "execution_count": 7,
      "outputs": [
        {
          "output_type": "stream",
          "name": "stdout",
          "text": [
            "Hey\n"
          ]
        }
      ]
    },
    {
      "cell_type": "markdown",
      "source": [
        "- burada outer function çağrılmış olsa da onun scope unda tanımlanan değişkene hala erişebildik"
      ],
      "metadata": {
        "id": "qT1WBkdj44Fu"
      }
    },
    {
      "cell_type": "code",
      "source": [
        "def outer(msg):\n",
        "    msg = msg\n",
        "\n",
        "    def inner():\n",
        "        print(msg)\n",
        "\n",
        "    return inner"
      ],
      "metadata": {
        "id": "b6fKBzax4_c2"
      },
      "execution_count": 8,
      "outputs": []
    },
    {
      "cell_type": "code",
      "source": [
        "hi_f = outer(\"hi\")"
      ],
      "metadata": {
        "id": "TYIQt0Er5K5w"
      },
      "execution_count": 9,
      "outputs": []
    },
    {
      "cell_type": "code",
      "source": [
        "hey_f = outer(\"hey\")"
      ],
      "metadata": {
        "id": "qe9BtwWe5OlY"
      },
      "execution_count": 10,
      "outputs": []
    },
    {
      "cell_type": "code",
      "source": [
        "hi_f()"
      ],
      "metadata": {
        "colab": {
          "base_uri": "https://localhost:8080/"
        },
        "id": "SCyIzNlm5Tln",
        "outputId": "b474dce4-3699-4467-9f17-6b2862f581de"
      },
      "execution_count": 11,
      "outputs": [
        {
          "output_type": "stream",
          "name": "stdout",
          "text": [
            "hi\n"
          ]
        }
      ]
    },
    {
      "cell_type": "code",
      "source": [
        "hey_f()"
      ],
      "metadata": {
        "colab": {
          "base_uri": "https://localhost:8080/"
        },
        "id": "20CsEYFj5Y5u",
        "outputId": "dcf358e6-aeeb-4123-a373-f2d27e36012a"
      },
      "execution_count": 12,
      "outputs": [
        {
          "output_type": "stream",
          "name": "stdout",
          "text": [
            "hey\n"
          ]
        }
      ]
    }
  ]
}