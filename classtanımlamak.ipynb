{
  "nbformat": 4,
  "nbformat_minor": 0,
  "metadata": {
    "colab": {
      "provenance": [],
      "authorship_tag": "ABX9TyNxVzsx0NwEs+7nzQJwzv83",
      "include_colab_link": true
    },
    "kernelspec": {
      "name": "python3",
      "display_name": "Python 3"
    },
    "language_info": {
      "name": "python"
    }
  },
  "cells": [
    {
      "cell_type": "markdown",
      "metadata": {
        "id": "view-in-github",
        "colab_type": "text"
      },
      "source": [
        "<a href=\"https://colab.research.google.com/github/faradaystorm/ileripython/blob/main/classtan%C4%B1mlamak.ipynb\" target=\"_parent\"><img src=\"https://colab.research.google.com/assets/colab-badge.svg\" alt=\"Open In Colab\"/></a>"
      ]
    },
    {
      "cell_type": "markdown",
      "source": [
        "- fonksiyonlarda belirli fonksiyonalite ifade eden kodları bir araya getirmeyi gördük. class mantığında hem fonksiyonalite hem de veriyi bir arada tutma yoluna bakacağız.\n",
        "\n",
        "- class'ın içerisindeki veri/data ya **attribute**, fonksiyonlara **method** diyeceğiz\n",
        "\n",
        "- diyelim ki bir iş yeri çalışanları kodumuzda ifade etmek istiyoruz. Sanki bu **class** mantığı ile uyumlu. her çalışanın farklı farklı özellikleri attribute ve yaptıkları şeyler methodları olacak\n",
        "\n",
        "- fonksiyon tanımlanırken **def** class yaratırken **class**\n",
        "\n",
        "- classın içerisinde method yaratırken, classtan yaratılan objeyi methodlar ilk arguman olarak alırlar. istediğimiz adı verebiliriz ama genellikle **self** diye geçer."
      ],
      "metadata": {
        "id": "J-JM8ocdUpmx"
      }
    },
    {
      "cell_type": "markdown",
      "source": [
        "**Attribute**"
      ],
      "metadata": {
        "id": "dyWKPeWAX5XR"
      }
    },
    {
      "cell_type": "code",
      "execution_count": null,
      "metadata": {
        "id": "EVR1439uUhXC"
      },
      "outputs": [],
      "source": [
        "class Employee:\n",
        "  pass"
      ]
    },
    {
      "cell_type": "code",
      "source": [
        "e = Employee()"
      ],
      "metadata": {
        "id": "ctNwf6GYYFDD"
      },
      "execution_count": null,
      "outputs": []
    },
    {
      "cell_type": "code",
      "source": [
        "#e objesine \"a\" attribute ekledik\n",
        "e.a = 4"
      ],
      "metadata": {
        "id": "UOf0P7E3Ydfh"
      },
      "execution_count": null,
      "outputs": []
    },
    {
      "cell_type": "code",
      "source": [
        "e.a"
      ],
      "metadata": {
        "colab": {
          "base_uri": "https://localhost:8080/"
        },
        "id": "qCJ_zQ5IYm0L",
        "outputId": "3f2eda21-e12f-470d-8371-f2f19143b7b3"
      },
      "execution_count": null,
      "outputs": [
        {
          "output_type": "execute_result",
          "data": {
            "text/plain": [
              "4"
            ]
          },
          "metadata": {},
          "execution_count": 5
        }
      ]
    },
    {
      "cell_type": "markdown",
      "source": [
        "- böyle tek tek belirtmek yerine en başta oluştururken de attribute verebilirsin"
      ],
      "metadata": {
        "id": "Kc8IC5amYplz"
      }
    },
    {
      "cell_type": "code",
      "source": [
        "class Employee:\n",
        "   def __init__(self, name, last, age, pay):\n",
        "       self.name = name\n",
        "       self.last = last\n",
        "       self.age = age\n",
        "       self.pay = pay"
      ],
      "metadata": {
        "id": "JdXUAKhNYwAC"
      },
      "execution_count": null,
      "outputs": []
    },
    {
      "cell_type": "markdown",
      "source": [
        "- class bunlardan objeler yaratmak için bir kalıptır!!!"
      ],
      "metadata": {
        "id": "e1TfKh4qZKDr"
      }
    },
    {
      "cell_type": "code",
      "source": [
        "emp_1 = Employee(\"James\", \"Hughes\", \"32\", 5000)"
      ],
      "metadata": {
        "id": "hJyahmPNZSFZ"
      },
      "execution_count": null,
      "outputs": []
    },
    {
      "cell_type": "markdown",
      "source": [
        "yukarıda yaratılan bir obje oldu employee classının objesi"
      ],
      "metadata": {
        "id": "QU5LRrBvaAni"
      }
    },
    {
      "cell_type": "code",
      "source": [
        "emp_2 = Employee(\"Charlie\", \"Brown\", \"22\", 3000)"
      ],
      "metadata": {
        "id": "gzZ12vsBaFt9"
      },
      "execution_count": null,
      "outputs": []
    },
    {
      "cell_type": "code",
      "source": [
        "emp_1.name"
      ],
      "metadata": {
        "colab": {
          "base_uri": "https://localhost:8080/",
          "height": 35
        },
        "id": "JQQOuKF9aR-a",
        "outputId": "5a26302e-7e80-45a7-88bd-4e50cf1058eb"
      },
      "execution_count": null,
      "outputs": [
        {
          "output_type": "execute_result",
          "data": {
            "text/plain": [
              "'James'"
            ],
            "application/vnd.google.colaboratory.intrinsic+json": {
              "type": "string"
            }
          },
          "metadata": {},
          "execution_count": 10
        }
      ]
    },
    {
      "cell_type": "markdown",
      "source": [
        "bütün yaratılan attributelar **instance variable** Her obje (classtan yaratılan instance), kendine özel attribute a sahip (iki kişinin adı aynı olabilir, ama hepsi için ayrı bir variable var ve hepsi kendi age attribute unda tutuyor)"
      ],
      "metadata": {
        "id": "DiFyXptRaWdE"
      }
    },
    {
      "cell_type": "markdown",
      "source": [
        "**Method**"
      ],
      "metadata": {
        "id": "TtFHDf2ebA5h"
      }
    },
    {
      "cell_type": "code",
      "source": [
        "class Employee:\n",
        "    def __init__(self, name, last, age, pay):\n",
        "        self.name = name\n",
        "        self.last = last\n",
        "        self.age = age\n",
        "        self.pay = pay\n",
        "\n",
        "    def fullname(self):\n",
        "        print(f\"{self.name} {self.last}\")"
      ],
      "metadata": {
        "id": "9Tm31OrWa_IP"
      },
      "execution_count": 1,
      "outputs": []
    },
    {
      "cell_type": "code",
      "source": [
        "emp_1 = Employee(\"James\", \"Hughes\", \"32\", 5000)"
      ],
      "metadata": {
        "id": "WmDP32PiUpYI"
      },
      "execution_count": 2,
      "outputs": []
    },
    {
      "cell_type": "code",
      "source": [
        "emp_2 = Employee(\"Charlie\", \"Brown\", \"22\", 3000)"
      ],
      "metadata": {
        "id": "EojqbWFXUyG3"
      },
      "execution_count": 3,
      "outputs": []
    },
    {
      "cell_type": "code",
      "source": [
        "emp_1.fullname()"
      ],
      "metadata": {
        "colab": {
          "base_uri": "https://localhost:8080/"
        },
        "id": "ANxm_NC3U56v",
        "outputId": "c13d5c1b-4476-4564-c8fe-3a15a5a4421d"
      },
      "execution_count": 4,
      "outputs": [
        {
          "output_type": "stream",
          "name": "stdout",
          "text": [
            "James Hughes\n"
          ]
        }
      ]
    },
    {
      "cell_type": "code",
      "source": [
        "emp_2.fullname()"
      ],
      "metadata": {
        "colab": {
          "base_uri": "https://localhost:8080/"
        },
        "id": "5MIfwLa7U-I7",
        "outputId": "faee596d-7196-4a55-b212-33353e9c9946"
      },
      "execution_count": 5,
      "outputs": [
        {
          "output_type": "stream",
          "name": "stdout",
          "text": [
            "Charlie Brown\n"
          ]
        }
      ]
    },
    {
      "cell_type": "markdown",
      "source": [
        "self otomatik olarak atanıyor. eğer self i arguman olarak vermezsek:"
      ],
      "metadata": {
        "id": "zWr7FmMUVEZQ"
      }
    },
    {
      "cell_type": "code",
      "source": [
        "class Employee:\n",
        "    def __init__(self, name, last, age, pay):\n",
        "        self.name = name\n",
        "        self.last = last\n",
        "        self.age = age\n",
        "        self.pay = pay\n",
        "\n",
        "    def fullname():\n",
        "        print(f\"{self.name} {self.last}\")"
      ],
      "metadata": {
        "id": "jcB-84zJVKxy"
      },
      "execution_count": 6,
      "outputs": []
    },
    {
      "cell_type": "code",
      "source": [
        "emp_1 = Employee(\"James\", \"Hughes\", \"32\", 5000)"
      ],
      "metadata": {
        "id": "bpixFsWPVkaM"
      },
      "execution_count": 7,
      "outputs": []
    },
    {
      "cell_type": "code",
      "source": [
        "emp_1.fullname()"
      ],
      "metadata": {
        "colab": {
          "base_uri": "https://localhost:8080/",
          "height": 165
        },
        "id": "0gjChP6qVlMf",
        "outputId": "680142c8-8db0-4d65-a7f7-ad78633f29c6"
      },
      "execution_count": 8,
      "outputs": [
        {
          "output_type": "error",
          "ename": "TypeError",
          "evalue": "ignored",
          "traceback": [
            "\u001b[0;31m---------------------------------------------------------------------------\u001b[0m",
            "\u001b[0;31mTypeError\u001b[0m                                 Traceback (most recent call last)",
            "\u001b[0;32m<ipython-input-8-333a56c7bcba>\u001b[0m in \u001b[0;36m<cell line: 1>\u001b[0;34m()\u001b[0m\n\u001b[0;32m----> 1\u001b[0;31m \u001b[0memp_1\u001b[0m\u001b[0;34m.\u001b[0m\u001b[0mfullname\u001b[0m\u001b[0;34m(\u001b[0m\u001b[0;34m)\u001b[0m\u001b[0;34m\u001b[0m\u001b[0;34m\u001b[0m\u001b[0m\n\u001b[0m",
            "\u001b[0;31mTypeError\u001b[0m: Employee.fullname() takes 0 positional arguments but 1 was given"
          ]
        }
      ]
    }
  ]
}